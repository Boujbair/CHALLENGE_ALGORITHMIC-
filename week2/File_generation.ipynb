{
 "cells": [
  {
   "cell_type": "markdown",
   "id": "04b53b5e",
   "metadata": {},
   "source": [
    "Le travail demandé est de créer un code qui traite deux listes (Sous forme de fichiers):\n",
    "Ids.in\n",
    "le fichier commence par un entier IDs qui indique le nombre des lignes qui vont suivre, chaque ligne contient une chaine de caractère qui représente un numéro de CIN\n",
    "Details.in\n",
    "La première ligne commence par un entier DETAILs qui indique le nombre des lignes qui vont suivre, chaque ligne contient une chaine de caractère sous la forme : CIN,FN,LN,City\n",
    "\n",
    "\n",
    "Le travail demandé:\n",
    "1- un programme sans optimisation : (70/100)\n",
    "qui affiche selon l'ordre du contenu du fichier Ids.in, tous le détails qui correspond dans le fichier Details.in\n",
    "merci d'afficher aussi sa complexité temporelle"
   ]
  },
  {
   "cell_type": "code",
   "execution_count": 4,
   "id": "79b55dbc",
   "metadata": {},
   "outputs": [
    {
     "name": "stdout",
     "output_type": "stream",
     "text": [
      "['4', 'LA58999', 'B45687', 'CH4569', 'BN58966']\n"
     ]
    }
   ],
   "source": [
    "ids = [line.strip() for line in open(r'C:\\Users\\dell\\Desktop\\ine 2\\S4\\challenge enegmes\\ids.txt')]\n",
    "print(ids)\n"
   ]
  },
  {
   "cell_type": "code",
   "execution_count": 5,
   "id": "f3458ae0",
   "metadata": {},
   "outputs": [
    {
     "name": "stdout",
     "output_type": "stream",
     "text": [
      "[['7'], ['CV45365468', 'Mohamed', 'Jilali', 'Tanger'], ['B45687', 'Fatima', 'AGDI', 'Agadir'], ['HJ5966', 'Moha', 'GHILO', 'Marrakech'], ['BN58966', 'Khadija', 'FILALI', 'Larache'], ['LA58999', 'Dolmi', 'FOUAD', 'TanTan'], ['HJ789985', 'Hanae', 'KADIRI', 'Dakhla'], ['CH4569', 'Oualid', 'IGIT', 'Nador']]\n"
     ]
    }
   ],
   "source": [
    "details = [list(line.strip().split(\",\")) for line in open(r'C:\\Users\\dell\\Desktop\\ine 2\\S4\\challenge enegmes\\details.txt')]\n",
    "print(details)"
   ]
  },
  {
   "cell_type": "code",
   "execution_count": 6,
   "id": "be78e51f",
   "metadata": {},
   "outputs": [],
   "source": [
    "L=[]\n",
    "for i in range(len(ids)):\n",
    "    for j in range(len(details)):\n",
    "        if ids[i] in details[j]:\n",
    "            L.append(\",\".join(str(x) for x in details[j]))\n"
   ]
  },
  {
   "cell_type": "code",
   "execution_count": 7,
   "id": "210b9288",
   "metadata": {},
   "outputs": [
    {
     "data": {
      "text/plain": [
       "['LA58999,Dolmi,FOUAD,TanTan',\n",
       " 'B45687,Fatima,AGDI,Agadir',\n",
       " 'CH4569,Oualid,IGIT,Nador',\n",
       " 'BN58966,Khadija,FILALI,Larache']"
      ]
     },
     "execution_count": 7,
     "metadata": {},
     "output_type": "execute_result"
    }
   ],
   "source": [
    "L\n"
   ]
  },
  {
   "cell_type": "code",
   "execution_count": 8,
   "id": "eebf33fd",
   "metadata": {},
   "outputs": [
    {
     "data": {
      "text/plain": [
       "['LA58999,Dolmi,FOUAD,TanTan',\n",
       " 'B45687,Fatima,AGDI,Agadir',\n",
       " 'CH4569,Oualid,IGIT,Nador',\n",
       " 'BN58966,Khadija,FILALI,Larache']"
      ]
     },
     "execution_count": 8,
     "metadata": {},
     "output_type": "execute_result"
    }
   ],
   "source": [
    "with open(r'C:\\Users\\dell\\Desktop\\ine 2\\S4\\challenge enegmes\\results.txt', 'a') as F:\n",
    "    for string in L:\n",
    "        F.write('{}\\n'.format(string))\n",
    "L"
   ]
  },
  {
   "cell_type": "markdown",
   "id": "5260951b",
   "metadata": {},
   "source": [
    "# Complexité : O(N*N)"
   ]
  },
  {
   "cell_type": "code",
   "execution_count": null,
   "id": "e6caf6f0",
   "metadata": {},
   "outputs": [],
   "source": []
  }
 ],
 "metadata": {
  "kernelspec": {
   "display_name": "Python 3 (ipykernel)",
   "language": "python",
   "name": "python3"
  },
  "language_info": {
   "codemirror_mode": {
    "name": "ipython",
    "version": 3
   },
   "file_extension": ".py",
   "mimetype": "text/x-python",
   "name": "python",
   "nbconvert_exporter": "python",
   "pygments_lexer": "ipython3",
   "version": "3.9.7"
  }
 },
 "nbformat": 4,
 "nbformat_minor": 5
}
