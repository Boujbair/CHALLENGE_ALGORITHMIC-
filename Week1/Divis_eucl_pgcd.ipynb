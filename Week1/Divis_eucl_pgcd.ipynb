{
 "cells": [
  {
   "cell_type": "markdown",
   "id": "5abb8d77",
   "metadata": {},
   "source": [
    "1- une fonction qui calcule les diviseurs d'un entier\n",
    "\n",
    "2- une fonction qui calcul le PGCD de deux entie"
   ]
  },
  {
   "cell_type": "code",
   "execution_count": 3,
   "id": "027ffd65",
   "metadata": {},
   "outputs": [],
   "source": [
    "def division(n):\n",
    "    L=[]\n",
    "    for i in range(1,n+1):\n",
    "        if n%i==0:\n",
    "            L.append(i)\n",
    "    return L"
   ]
  },
  {
   "cell_type": "code",
   "execution_count": 4,
   "id": "a699a614",
   "metadata": {},
   "outputs": [
    {
     "data": {
      "text/plain": [
       "[1, 2, 3, 6, 11, 22, 33, 66]"
      ]
     },
     "execution_count": 4,
     "metadata": {},
     "output_type": "execute_result"
    }
   ],
   "source": [
    "division(66)"
   ]
  },
  {
   "cell_type": "code",
   "execution_count": 7,
   "id": "b29b9a06",
   "metadata": {},
   "outputs": [
    {
     "name": "stdout",
     "output_type": "stream",
     "text": [
      "donner la Valeur de n :36\n",
      "donner la Valeur de m :90\n",
      "pgcd= 18\n"
     ]
    }
   ],
   "source": [
    "# Calcul d'un PGCD par différences successives \n",
    "n=int(input(\"donner la Valeur de n :\")) \n",
    "m=int(input(\"donner la Valeur de m :\")) \n",
    "while n!=m: \n",
    "    d=abs(m-n) \n",
    "    m=n \n",
    "    n=d \n",
    "print(\"pgcd=\",d) \n",
    "if d==1: \n",
    "    print(\"Les deux entiers sont premiers entre eux.\")"
   ]
  },
  {
   "cell_type": "code",
   "execution_count": null,
   "id": "ed8f1996",
   "metadata": {},
   "outputs": [],
   "source": []
  }
 ],
 "metadata": {
  "kernelspec": {
   "display_name": "Python 3 (ipykernel)",
   "language": "python",
   "name": "python3"
  },
  "language_info": {
   "codemirror_mode": {
    "name": "ipython",
    "version": 3
   },
   "file_extension": ".py",
   "mimetype": "text/x-python",
   "name": "python",
   "nbconvert_exporter": "python",
   "pygments_lexer": "ipython3",
   "version": "3.9.7"
  }
 },
 "nbformat": 4,
 "nbformat_minor": 5
}
